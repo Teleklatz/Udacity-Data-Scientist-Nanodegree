{
 "cells": [
  {
   "cell_type": "markdown",
   "metadata": {},
   "source": [
    "# Want to Visit Munich? Check When to Visit and Where to Stay\n",
    "\n",
    "The project goal is to analyze Airbnb listings in Munich city using CRISP-DM process.\n",
    "\n",
    "The Cross Industry Standard Process for Data Mining (CRISP-DM) is a process model that serves as the base for a data science process. The process steps are as below:\n",
    "\n",
    "1. Business understanding\n",
    "2. Data understanding\n",
    "3. Data preparation\n",
    "4. Modeling\n",
    "5. Evaluation\n",
    "6. Deployment"
   ]
  },
  {
   "cell_type": "markdown",
   "metadata": {},
   "source": [
    "## Business understanding\n",
    "\n",
    "Munich is one of the biggest cities in Germany and Europe. Every year many local and international tourists visit the city for business and leisure purposes.\n",
    "\n",
    "In this project, we want to find out insights of Munich housing market using the dataset of Airbnb rentals for Munich. \n",
    "\n",
    "\n",
    "### Questions of Interest\n",
    "\n",
    "1) When is it cheapest and when is it most expensive to visit Munich?\n",
    "\n",
    "2) Which neighborhood has the cheapest rentals and which neighborhood has the most expensive one?\n",
    "\n",
    "3) What are the top 5 amenities available in Munich Airbnb rentals?"
   ]
  },
  {
   "cell_type": "markdown",
   "metadata": {},
   "source": [
    "## Data\n",
    "\n",
    "The data of Munich AirBnB listing for 23rd September, 2023 used for this analysis is available in the following site: [link](http://insideairbnb.com/get-the-data.html). There are 2 separate data files used and they are:\n",
    "\n",
    "- listings: Detailed list of AirBnB booking in 23rd September, 2023 in Munich\n",
    "- calendar: Time stamps of the bookings for the same date"
   ]
  },
  {
   "cell_type": "markdown",
   "metadata": {},
   "source": [
    "## Data Understanding\n",
    "\n",
    "We will explore the dataset in the first step"
   ]
  },
  {
   "cell_type": "code",
   "execution_count": 1,
   "metadata": {},
   "outputs": [],
   "source": [
    "# Importing required libraries\n",
    "\n",
    "import pandas as pd\n",
    "import numpy as np\n",
    "import calendar\n",
    "import matplotlib.pyplot as plt\n",
    "import seaborn as sns\n",
    "from sklearn.preprocessing import MultiLabelBinarizer \n",
    "%matplotlib inline"
   ]
  },
  {
   "cell_type": "code",
   "execution_count": 2,
   "metadata": {},
   "outputs": [],
   "source": [
    "# loading listings dataset\n",
    "\n",
    "df_listings = pd.read_csv('listings.csv')"
   ]
  },
  {
   "cell_type": "code",
   "execution_count": 3,
   "metadata": {},
   "outputs": [
    {
     "name": "stdout",
     "output_type": "stream",
     "text": [
      "<class 'pandas.core.frame.DataFrame'>\n",
      "RangeIndex: 7336 entries, 0 to 7335\n",
      "Data columns (total 75 columns):\n",
      " #   Column                                        Non-Null Count  Dtype  \n",
      "---  ------                                        --------------  -----  \n",
      " 0   id                                            7336 non-null   int64  \n",
      " 1   listing_url                                   7336 non-null   object \n",
      " 2   scrape_id                                     7336 non-null   int64  \n",
      " 3   last_scraped                                  7336 non-null   object \n",
      " 4   source                                        7336 non-null   object \n",
      " 5   name                                          7336 non-null   object \n",
      " 6   description                                   7191 non-null   object \n",
      " 7   neighborhood_overview                         2926 non-null   object \n",
      " 8   picture_url                                   7336 non-null   object \n",
      " 9   host_id                                       7336 non-null   int64  \n",
      " 10  host_url                                      7336 non-null   object \n",
      " 11  host_name                                     7336 non-null   object \n",
      " 12  host_since                                    7336 non-null   object \n",
      " 13  host_location                                 5914 non-null   object \n",
      " 14  host_about                                    2932 non-null   object \n",
      " 15  host_response_time                            5576 non-null   object \n",
      " 16  host_response_rate                            5576 non-null   object \n",
      " 17  host_acceptance_rate                          6199 non-null   object \n",
      " 18  host_is_superhost                             7299 non-null   object \n",
      " 19  host_thumbnail_url                            7336 non-null   object \n",
      " 20  host_picture_url                              7336 non-null   object \n",
      " 21  host_neighbourhood                            2197 non-null   object \n",
      " 22  host_listings_count                           7336 non-null   int64  \n",
      " 23  host_total_listings_count                     7336 non-null   int64  \n",
      " 24  host_verifications                            7336 non-null   object \n",
      " 25  host_has_profile_pic                          7336 non-null   object \n",
      " 26  host_identity_verified                        7336 non-null   object \n",
      " 27  neighbourhood                                 2926 non-null   object \n",
      " 28  neighbourhood_cleansed                        7336 non-null   object \n",
      " 29  neighbourhood_group_cleansed                  0 non-null      float64\n",
      " 30  latitude                                      7336 non-null   float64\n",
      " 31  longitude                                     7336 non-null   float64\n",
      " 32  property_type                                 7336 non-null   object \n",
      " 33  room_type                                     7336 non-null   object \n",
      " 34  accommodates                                  7336 non-null   int64  \n",
      " 35  bathrooms                                     0 non-null      float64\n",
      " 36  bathrooms_text                                7328 non-null   object \n",
      " 37  bedrooms                                      4843 non-null   float64\n",
      " 38  beds                                          7261 non-null   float64\n",
      " 39  amenities                                     7336 non-null   object \n",
      " 40  price                                         7336 non-null   object \n",
      " 41  minimum_nights                                7336 non-null   int64  \n",
      " 42  maximum_nights                                7336 non-null   int64  \n",
      " 43  minimum_minimum_nights                        7336 non-null   int64  \n",
      " 44  maximum_minimum_nights                        7336 non-null   int64  \n",
      " 45  minimum_maximum_nights                        7336 non-null   int64  \n",
      " 46  maximum_maximum_nights                        7336 non-null   int64  \n",
      " 47  minimum_nights_avg_ntm                        7336 non-null   float64\n",
      " 48  maximum_nights_avg_ntm                        7336 non-null   float64\n",
      " 49  calendar_updated                              0 non-null      float64\n",
      " 50  has_availability                              7336 non-null   object \n",
      " 51  availability_30                               7336 non-null   int64  \n",
      " 52  availability_60                               7336 non-null   int64  \n",
      " 53  availability_90                               7336 non-null   int64  \n",
      " 54  availability_365                              7336 non-null   int64  \n",
      " 55  calendar_last_scraped                         7336 non-null   object \n",
      " 56  number_of_reviews                             7336 non-null   int64  \n",
      " 57  number_of_reviews_ltm                         7336 non-null   int64  \n",
      " 58  number_of_reviews_l30d                        7336 non-null   int64  \n",
      " 59  first_review                                  5309 non-null   object \n",
      " 60  last_review                                   5309 non-null   object \n",
      " 61  review_scores_rating                          5318 non-null   float64\n",
      " 62  review_scores_accuracy                        5308 non-null   float64\n",
      " 63  review_scores_cleanliness                     5308 non-null   float64\n",
      " 64  review_scores_checkin                         5308 non-null   float64\n",
      " 65  review_scores_communication                   5308 non-null   float64\n",
      " 66  review_scores_location                        5308 non-null   float64\n",
      " 67  review_scores_value                           5308 non-null   float64\n",
      " 68  license                                       21 non-null     object \n",
      " 69  instant_bookable                              7336 non-null   object \n",
      " 70  calculated_host_listings_count                7336 non-null   int64  \n",
      " 71  calculated_host_listings_count_entire_homes   7336 non-null   int64  \n",
      " 72  calculated_host_listings_count_private_rooms  7336 non-null   int64  \n",
      " 73  calculated_host_listings_count_shared_rooms   7336 non-null   int64  \n",
      " 74  reviews_per_month                             5309 non-null   float64\n",
      "dtypes: float64(17), int64(23), object(35)\n",
      "memory usage: 4.2+ MB\n"
     ]
    }
   ],
   "source": [
    "# info for listings dataframe\n",
    "\n",
    "df_listings.info()"
   ]
  },
  {
   "cell_type": "code",
   "execution_count": 4,
   "metadata": {},
   "outputs": [
    {
     "data": {
      "text/html": [
       "<div>\n",
       "<style scoped>\n",
       "    .dataframe tbody tr th:only-of-type {\n",
       "        vertical-align: middle;\n",
       "    }\n",
       "\n",
       "    .dataframe tbody tr th {\n",
       "        vertical-align: top;\n",
       "    }\n",
       "\n",
       "    .dataframe thead th {\n",
       "        text-align: right;\n",
       "    }\n",
       "</style>\n",
       "<table border=\"1\" class=\"dataframe\">\n",
       "  <thead>\n",
       "    <tr style=\"text-align: right;\">\n",
       "      <th></th>\n",
       "      <th>id</th>\n",
       "      <th>listing_url</th>\n",
       "      <th>scrape_id</th>\n",
       "      <th>last_scraped</th>\n",
       "      <th>source</th>\n",
       "      <th>name</th>\n",
       "      <th>description</th>\n",
       "      <th>neighborhood_overview</th>\n",
       "      <th>picture_url</th>\n",
       "      <th>host_id</th>\n",
       "      <th>...</th>\n",
       "      <th>review_scores_communication</th>\n",
       "      <th>review_scores_location</th>\n",
       "      <th>review_scores_value</th>\n",
       "      <th>license</th>\n",
       "      <th>instant_bookable</th>\n",
       "      <th>calculated_host_listings_count</th>\n",
       "      <th>calculated_host_listings_count_entire_homes</th>\n",
       "      <th>calculated_host_listings_count_private_rooms</th>\n",
       "      <th>calculated_host_listings_count_shared_rooms</th>\n",
       "      <th>reviews_per_month</th>\n",
       "    </tr>\n",
       "  </thead>\n",
       "  <tbody>\n",
       "    <tr>\n",
       "      <th>0</th>\n",
       "      <td>50937113</td>\n",
       "      <td>https://www.airbnb.com/rooms/50937113</td>\n",
       "      <td>20230922223227</td>\n",
       "      <td>2023-09-23</td>\n",
       "      <td>previous scrape</td>\n",
       "      <td>Rental unit in Munich · 1 bedroom · 1 bed · 1 ...</td>\n",
       "      <td>Enjoy a stylish experience at this centrally-l...</td>\n",
       "      <td>NaN</td>\n",
       "      <td>https://a0.muscache.com/pictures/e9933e6c-fb07...</td>\n",
       "      <td>34019839</td>\n",
       "      <td>...</td>\n",
       "      <td>NaN</td>\n",
       "      <td>NaN</td>\n",
       "      <td>NaN</td>\n",
       "      <td>NaN</td>\n",
       "      <td>f</td>\n",
       "      <td>1</td>\n",
       "      <td>0</td>\n",
       "      <td>1</td>\n",
       "      <td>0</td>\n",
       "      <td>NaN</td>\n",
       "    </tr>\n",
       "    <tr>\n",
       "      <th>1</th>\n",
       "      <td>676007794384862490</td>\n",
       "      <td>https://www.airbnb.com/rooms/676007794384862490</td>\n",
       "      <td>20230922223227</td>\n",
       "      <td>2023-09-23</td>\n",
       "      <td>previous scrape</td>\n",
       "      <td>Rental unit in Munich · 1 bedroom · 1 bed · 1 ...</td>\n",
       "      <td>Unsere Wohnung bietet eine Menge Platz für zwe...</td>\n",
       "      <td>NaN</td>\n",
       "      <td>https://a0.muscache.com/pictures/miso/Hosting-...</td>\n",
       "      <td>90764632</td>\n",
       "      <td>...</td>\n",
       "      <td>NaN</td>\n",
       "      <td>NaN</td>\n",
       "      <td>NaN</td>\n",
       "      <td>NaN</td>\n",
       "      <td>t</td>\n",
       "      <td>1</td>\n",
       "      <td>0</td>\n",
       "      <td>1</td>\n",
       "      <td>0</td>\n",
       "      <td>NaN</td>\n",
       "    </tr>\n",
       "    <tr>\n",
       "      <th>2</th>\n",
       "      <td>720879719372870415</td>\n",
       "      <td>https://www.airbnb.com/rooms/720879719372870415</td>\n",
       "      <td>20230922223227</td>\n",
       "      <td>2023-09-23</td>\n",
       "      <td>previous scrape</td>\n",
       "      <td>Rental unit in Munich · 1 bedroom · 1 bed · 1 ...</td>\n",
       "      <td>1,5 Zimmer Appartement, zentral gelegen, 5 Min...</td>\n",
       "      <td>NaN</td>\n",
       "      <td>https://a0.muscache.com/pictures/miso/Hosting-...</td>\n",
       "      <td>223300367</td>\n",
       "      <td>...</td>\n",
       "      <td>4.0</td>\n",
       "      <td>5.0</td>\n",
       "      <td>4.0</td>\n",
       "      <td>NaN</td>\n",
       "      <td>f</td>\n",
       "      <td>1</td>\n",
       "      <td>1</td>\n",
       "      <td>0</td>\n",
       "      <td>0</td>\n",
       "      <td>0.08</td>\n",
       "    </tr>\n",
       "    <tr>\n",
       "      <th>3</th>\n",
       "      <td>41224455</td>\n",
       "      <td>https://www.airbnb.com/rooms/41224455</td>\n",
       "      <td>20230922223227</td>\n",
       "      <td>2023-09-23</td>\n",
       "      <td>city scrape</td>\n",
       "      <td>Townhouse in Munich · 4 bedrooms · 6 beds · 3....</td>\n",
       "      <td>Rent an entire beautiful and bright house, 6rm...</td>\n",
       "      <td>Our neighbourhood is perfect for families:&lt;br ...</td>\n",
       "      <td>https://a0.muscache.com/pictures/c0ff1507-9b84...</td>\n",
       "      <td>5666804</td>\n",
       "      <td>...</td>\n",
       "      <td>NaN</td>\n",
       "      <td>NaN</td>\n",
       "      <td>NaN</td>\n",
       "      <td>NaN</td>\n",
       "      <td>f</td>\n",
       "      <td>1</td>\n",
       "      <td>1</td>\n",
       "      <td>0</td>\n",
       "      <td>0</td>\n",
       "      <td>NaN</td>\n",
       "    </tr>\n",
       "    <tr>\n",
       "      <th>4</th>\n",
       "      <td>52179501</td>\n",
       "      <td>https://www.airbnb.com/rooms/52179501</td>\n",
       "      <td>20230922223227</td>\n",
       "      <td>2023-09-23</td>\n",
       "      <td>previous scrape</td>\n",
       "      <td>Rental unit in Munich · 1 bedroom · 1 bed · 1 ...</td>\n",
       "      <td>Das Appartement verfügt über einen Schlaf-/Woh...</td>\n",
       "      <td>NaN</td>\n",
       "      <td>https://a0.muscache.com/pictures/miso/Hosting-...</td>\n",
       "      <td>13552115</td>\n",
       "      <td>...</td>\n",
       "      <td>5.0</td>\n",
       "      <td>5.0</td>\n",
       "      <td>5.0</td>\n",
       "      <td>NaN</td>\n",
       "      <td>f</td>\n",
       "      <td>2</td>\n",
       "      <td>1</td>\n",
       "      <td>1</td>\n",
       "      <td>0</td>\n",
       "      <td>0.15</td>\n",
       "    </tr>\n",
       "  </tbody>\n",
       "</table>\n",
       "<p>5 rows × 75 columns</p>\n",
       "</div>"
      ],
      "text/plain": [
       "                   id                                      listing_url  \\\n",
       "0            50937113            https://www.airbnb.com/rooms/50937113   \n",
       "1  676007794384862490  https://www.airbnb.com/rooms/676007794384862490   \n",
       "2  720879719372870415  https://www.airbnb.com/rooms/720879719372870415   \n",
       "3            41224455            https://www.airbnb.com/rooms/41224455   \n",
       "4            52179501            https://www.airbnb.com/rooms/52179501   \n",
       "\n",
       "        scrape_id last_scraped           source  \\\n",
       "0  20230922223227   2023-09-23  previous scrape   \n",
       "1  20230922223227   2023-09-23  previous scrape   \n",
       "2  20230922223227   2023-09-23  previous scrape   \n",
       "3  20230922223227   2023-09-23      city scrape   \n",
       "4  20230922223227   2023-09-23  previous scrape   \n",
       "\n",
       "                                                name  \\\n",
       "0  Rental unit in Munich · 1 bedroom · 1 bed · 1 ...   \n",
       "1  Rental unit in Munich · 1 bedroom · 1 bed · 1 ...   \n",
       "2  Rental unit in Munich · 1 bedroom · 1 bed · 1 ...   \n",
       "3  Townhouse in Munich · 4 bedrooms · 6 beds · 3....   \n",
       "4  Rental unit in Munich · 1 bedroom · 1 bed · 1 ...   \n",
       "\n",
       "                                         description  \\\n",
       "0  Enjoy a stylish experience at this centrally-l...   \n",
       "1  Unsere Wohnung bietet eine Menge Platz für zwe...   \n",
       "2  1,5 Zimmer Appartement, zentral gelegen, 5 Min...   \n",
       "3  Rent an entire beautiful and bright house, 6rm...   \n",
       "4  Das Appartement verfügt über einen Schlaf-/Woh...   \n",
       "\n",
       "                               neighborhood_overview  \\\n",
       "0                                                NaN   \n",
       "1                                                NaN   \n",
       "2                                                NaN   \n",
       "3  Our neighbourhood is perfect for families:<br ...   \n",
       "4                                                NaN   \n",
       "\n",
       "                                         picture_url    host_id  ...  \\\n",
       "0  https://a0.muscache.com/pictures/e9933e6c-fb07...   34019839  ...   \n",
       "1  https://a0.muscache.com/pictures/miso/Hosting-...   90764632  ...   \n",
       "2  https://a0.muscache.com/pictures/miso/Hosting-...  223300367  ...   \n",
       "3  https://a0.muscache.com/pictures/c0ff1507-9b84...    5666804  ...   \n",
       "4  https://a0.muscache.com/pictures/miso/Hosting-...   13552115  ...   \n",
       "\n",
       "  review_scores_communication review_scores_location review_scores_value  \\\n",
       "0                         NaN                    NaN                 NaN   \n",
       "1                         NaN                    NaN                 NaN   \n",
       "2                         4.0                    5.0                 4.0   \n",
       "3                         NaN                    NaN                 NaN   \n",
       "4                         5.0                    5.0                 5.0   \n",
       "\n",
       "  license instant_bookable calculated_host_listings_count  \\\n",
       "0     NaN                f                              1   \n",
       "1     NaN                t                              1   \n",
       "2     NaN                f                              1   \n",
       "3     NaN                f                              1   \n",
       "4     NaN                f                              2   \n",
       "\n",
       "  calculated_host_listings_count_entire_homes  \\\n",
       "0                                           0   \n",
       "1                                           0   \n",
       "2                                           1   \n",
       "3                                           1   \n",
       "4                                           1   \n",
       "\n",
       "  calculated_host_listings_count_private_rooms  \\\n",
       "0                                            1   \n",
       "1                                            1   \n",
       "2                                            0   \n",
       "3                                            0   \n",
       "4                                            1   \n",
       "\n",
       "  calculated_host_listings_count_shared_rooms reviews_per_month  \n",
       "0                                           0               NaN  \n",
       "1                                           0               NaN  \n",
       "2                                           0              0.08  \n",
       "3                                           0               NaN  \n",
       "4                                           0              0.15  \n",
       "\n",
       "[5 rows x 75 columns]"
      ]
     },
     "execution_count": 4,
     "metadata": {},
     "output_type": "execute_result"
    }
   ],
   "source": [
    "# header for listings dataframe\n",
    "\n",
    "df_listings.head()"
   ]
  },
  {
   "cell_type": "code",
   "execution_count": 5,
   "metadata": {},
   "outputs": [
    {
     "data": {
      "text/plain": [
       "{'accommodates',\n",
       " 'amenities',\n",
       " 'availability_30',\n",
       " 'availability_365',\n",
       " 'availability_60',\n",
       " 'availability_90',\n",
       " 'calculated_host_listings_count',\n",
       " 'calculated_host_listings_count_entire_homes',\n",
       " 'calculated_host_listings_count_private_rooms',\n",
       " 'calculated_host_listings_count_shared_rooms',\n",
       " 'calendar_last_scraped',\n",
       " 'has_availability',\n",
       " 'host_has_profile_pic',\n",
       " 'host_id',\n",
       " 'host_identity_verified',\n",
       " 'host_listings_count',\n",
       " 'host_name',\n",
       " 'host_picture_url',\n",
       " 'host_since',\n",
       " 'host_thumbnail_url',\n",
       " 'host_total_listings_count',\n",
       " 'host_url',\n",
       " 'host_verifications',\n",
       " 'id',\n",
       " 'instant_bookable',\n",
       " 'last_scraped',\n",
       " 'latitude',\n",
       " 'listing_url',\n",
       " 'longitude',\n",
       " 'maximum_maximum_nights',\n",
       " 'maximum_minimum_nights',\n",
       " 'maximum_nights',\n",
       " 'maximum_nights_avg_ntm',\n",
       " 'minimum_maximum_nights',\n",
       " 'minimum_minimum_nights',\n",
       " 'minimum_nights',\n",
       " 'minimum_nights_avg_ntm',\n",
       " 'name',\n",
       " 'neighbourhood_cleansed',\n",
       " 'number_of_reviews',\n",
       " 'number_of_reviews_l30d',\n",
       " 'number_of_reviews_ltm',\n",
       " 'picture_url',\n",
       " 'price',\n",
       " 'property_type',\n",
       " 'room_type',\n",
       " 'scrape_id',\n",
       " 'source'}"
      ]
     },
     "execution_count": 5,
     "metadata": {},
     "output_type": "execute_result"
    }
   ],
   "source": [
    "# columns with no missing values\n",
    "\n",
    "set(df_listings.columns[df_listings.isnull().mean()== 0])"
   ]
  },
  {
   "cell_type": "code",
   "execution_count": 6,
   "metadata": {},
   "outputs": [
    {
     "data": {
      "text/plain": [
       "{'bathrooms', 'calendar_updated', 'license', 'neighbourhood_group_cleansed'}"
      ]
     },
     "execution_count": 6,
     "metadata": {},
     "output_type": "execute_result"
    }
   ],
   "source": [
    "# columns with more than 75% missing values\n",
    "\n",
    "set(df_listings.columns[df_listings.isnull().mean()>0.750])"
   ]
  },
  {
   "cell_type": "code",
   "execution_count": 7,
   "metadata": {},
   "outputs": [
    {
     "data": {
      "text/plain": [
       "{'bathrooms', 'calendar_updated', 'neighbourhood_group_cleansed'}"
      ]
     },
     "execution_count": 7,
     "metadata": {},
     "output_type": "execute_result"
    }
   ],
   "source": [
    "# columns with more than 100% missing values\n",
    "\n",
    "set(df_listings.columns[df_listings.isnull().mean()==1.0])"
   ]
  },
  {
   "cell_type": "code",
   "execution_count": 8,
   "metadata": {},
   "outputs": [
    {
     "data": {
      "text/plain": [
       "25"
      ]
     },
     "execution_count": 8,
     "metadata": {},
     "output_type": "execute_result"
    }
   ],
   "source": [
    "df_listings['neighbourhood_cleansed'].nunique()"
   ]
  },
  {
   "cell_type": "code",
   "execution_count": 9,
   "metadata": {},
   "outputs": [
    {
     "data": {
      "text/plain": [
       "Ludwigsvorstadt-Isarvorstadt                              927\n",
       "Maxvorstadt                                               613\n",
       "Au-Haidhausen                                             484\n",
       "Schwabing-West                                            455\n",
       "Neuhausen-Nymphenburg                                     443\n",
       "Schwabing-Freimann                                        353\n",
       "Bogenhausen                                               315\n",
       "Ramersdorf-Perlach                                        307\n",
       "Schwanthalerhöhe                                          291\n",
       "Sendling-Westpark                                         284\n",
       "Thalkirchen-Obersendling-Forstenried-Fürstenried-Solln    280\n",
       "Sendling                                                  268\n",
       "Obergiesing                                               264\n",
       "Milbertshofen-Am Hart                                     258\n",
       "Altstadt-Lehel                                            245\n",
       "Laim                                                      221\n",
       "Tudering-Riem                                             215\n",
       "Untergiesing-Harlaching                                   203\n",
       "Pasing-Obermenzing                                        197\n",
       "Aubing-Lochhausen-Langwied                                169\n",
       "Berg am Laim                                              150\n",
       "Moosach                                                   149\n",
       "Feldmoching-Hasenbergl                                     99\n",
       "Hadern                                                     76\n",
       "Allach-Untermenzing                                        70\n",
       "Name: neighbourhood_cleansed, dtype: int64"
      ]
     },
     "execution_count": 9,
     "metadata": {},
     "output_type": "execute_result"
    }
   ],
   "source": [
    "#Neighborhoods with count\n",
    "df_listings['neighbourhood_cleansed'].value_counts()"
   ]
  },
  {
   "cell_type": "code",
   "execution_count": 10,
   "metadata": {},
   "outputs": [
    {
     "data": {
      "image/png": "[encoded data removed]",
      "text/plain": [
       "<Figure size 432x288 with 1 Axes>"
      ]
     },
     "metadata": {
      "needs_background": "light"
     },
     "output_type": "display_data"
    }
   ],
   "source": [
    "# Distribution of Neighbourhood\n",
    "neighbourhood_count = df_listings['neighbourhood_cleansed'].value_counts()\n",
    "\n",
    "(neighbourhood_count/df_listings.shape[0]).plot(kind=\"bar\");\n",
    "plt.title(\"Distribution of neighbourhood listings\");"
   ]
  },
  {
   "cell_type": "code",
   "execution_count": 11,
   "metadata": {},
   "outputs": [
    {
     "data": {
      "text/plain": [
       "Entire home/apt    4808\n",
       "Private room       2416\n",
       "Shared room          77\n",
       "Hotel room           35\n",
       "Name: room_type, dtype: int64"
      ]
     },
     "execution_count": 11,
     "metadata": {},
     "output_type": "execute_result"
    }
   ],
   "source": [
    "#Available type of rooms with count\n",
    "df_listings['room_type'].value_counts()"
   ]
  },
  {
   "cell_type": "markdown",
   "metadata": {},
   "source": [
    "Below are the key insights of listings dataframe:\n",
    "\n",
    "- Dataframe has 7336 rows and 75 columns\n",
    "- 3 columns have no data at all\n",
    "- Total available neighborhoods in Munich are 25 and Ludwigsvorstadt-Isarvorstadt has the most offerings\n",
    "- Most common types of room offerings are either entire home/apt. or private room \n",
    "\n",
    "Points to consider for data wrangling:\n",
    "\n",
    "- 'price' column is object and needs to be transformed to values\n",
    "- dropping 3 columns with 100% missing values"
   ]
  },
  {
   "cell_type": "code",
   "execution_count": 12,
   "metadata": {},
   "outputs": [],
   "source": [
    "# loading calendar dataset\n",
    "\n",
    "df_calendar = pd.read_csv('calendar.csv')"
   ]
  },
  {
   "cell_type": "code",
   "execution_count": 13,
   "metadata": {},
   "outputs": [
    {
     "name": "stdout",
     "output_type": "stream",
     "text": [
      "<class 'pandas.core.frame.DataFrame'>\n",
      "RangeIndex: 2677641 entries, 0 to 2677640\n",
      "Data columns (total 7 columns):\n",
      " #   Column          Dtype \n",
      "---  ------          ----- \n",
      " 0   listing_id      int64 \n",
      " 1   date            object\n",
      " 2   available       object\n",
      " 3   price           object\n",
      " 4   adjusted_price  object\n",
      " 5   minimum_nights  int64 \n",
      " 6   maximum_nights  int64 \n",
      "dtypes: int64(3), object(4)\n",
      "memory usage: 143.0+ MB\n"
     ]
    }
   ],
   "source": [
    "# info for calendar dataframe\n",
    "\n",
    "df_calendar.info()"
   ]
  },
  {
   "cell_type": "code",
   "execution_count": 14,
   "metadata": {},
   "outputs": [
    {
     "data": {
      "text/html": [
       "<div>\n",
       "<style scoped>\n",
       "    .dataframe tbody tr th:only-of-type {\n",
       "        vertical-align: middle;\n",
       "    }\n",
       "\n",
       "    .dataframe tbody tr th {\n",
       "        vertical-align: top;\n",
       "    }\n",
       "\n",
       "    .dataframe thead th {\n",
       "        text-align: right;\n",
       "    }\n",
       "</style>\n",
       "<table border=\"1\" class=\"dataframe\">\n",
       "  <thead>\n",
       "    <tr style=\"text-align: right;\">\n",
       "      <th></th>\n",
       "      <th>listing_id</th>\n",
       "      <th>date</th>\n",
       "      <th>available</th>\n",
       "      <th>price</th>\n",
       "      <th>adjusted_price</th>\n",
       "      <th>minimum_nights</th>\n",
       "      <th>maximum_nights</th>\n",
       "    </tr>\n",
       "  </thead>\n",
       "  <tbody>\n",
       "    <tr>\n",
       "      <th>0</th>\n",
       "      <td>97945</td>\n",
       "      <td>2023-09-23</td>\n",
       "      <td>f</td>\n",
       "      <td>$120.00</td>\n",
       "      <td>$120.00</td>\n",
       "      <td>2</td>\n",
       "      <td>90</td>\n",
       "    </tr>\n",
       "    <tr>\n",
       "      <th>1</th>\n",
       "      <td>97945</td>\n",
       "      <td>2023-09-24</td>\n",
       "      <td>f</td>\n",
       "      <td>$120.00</td>\n",
       "      <td>$120.00</td>\n",
       "      <td>2</td>\n",
       "      <td>90</td>\n",
       "    </tr>\n",
       "    <tr>\n",
       "      <th>2</th>\n",
       "      <td>97945</td>\n",
       "      <td>2023-09-25</td>\n",
       "      <td>t</td>\n",
       "      <td>$120.00</td>\n",
       "      <td>$120.00</td>\n",
       "      <td>2</td>\n",
       "      <td>90</td>\n",
       "    </tr>\n",
       "    <tr>\n",
       "      <th>3</th>\n",
       "      <td>97945</td>\n",
       "      <td>2023-09-26</td>\n",
       "      <td>f</td>\n",
       "      <td>$80.00</td>\n",
       "      <td>$80.00</td>\n",
       "      <td>2</td>\n",
       "      <td>90</td>\n",
       "    </tr>\n",
       "    <tr>\n",
       "      <th>4</th>\n",
       "      <td>97945</td>\n",
       "      <td>2023-09-27</td>\n",
       "      <td>f</td>\n",
       "      <td>$80.00</td>\n",
       "      <td>$80.00</td>\n",
       "      <td>2</td>\n",
       "      <td>90</td>\n",
       "    </tr>\n",
       "  </tbody>\n",
       "</table>\n",
       "</div>"
      ],
      "text/plain": [
       "   listing_id        date available    price adjusted_price  minimum_nights  \\\n",
       "0       97945  2023-09-23         f  $120.00        $120.00               2   \n",
       "1       97945  2023-09-24         f  $120.00        $120.00               2   \n",
       "2       97945  2023-09-25         t  $120.00        $120.00               2   \n",
       "3       97945  2023-09-26         f   $80.00         $80.00               2   \n",
       "4       97945  2023-09-27         f   $80.00         $80.00               2   \n",
       "\n",
       "   maximum_nights  \n",
       "0              90  \n",
       "1              90  \n",
       "2              90  \n",
       "3              90  \n",
       "4              90  "
      ]
     },
     "execution_count": 14,
     "metadata": {},
     "output_type": "execute_result"
    }
   ],
   "source": [
    "# header for calendar dataframe\n",
    "\n",
    "df_calendar.head()"
   ]
  },
  {
   "cell_type": "code",
   "execution_count": 15,
   "metadata": {},
   "outputs": [
    {
     "data": {
      "text/plain": [
       "{'adjusted_price',\n",
       " 'available',\n",
       " 'date',\n",
       " 'listing_id',\n",
       " 'maximum_nights',\n",
       " 'minimum_nights',\n",
       " 'price'}"
      ]
     },
     "execution_count": 15,
     "metadata": {},
     "output_type": "execute_result"
    }
   ],
   "source": [
    "# columns with no missing values\n",
    "\n",
    "set(df_calendar.columns[df_calendar.isnull().mean()== 0])"
   ]
  },
  {
   "cell_type": "markdown",
   "metadata": {},
   "source": [
    "This means calendar data is complete any no column has any missing values. There are two columns with price and we need to check if both columns are identical."
   ]
  },
  {
   "cell_type": "code",
   "execution_count": 16,
   "metadata": {},
   "outputs": [
    {
     "data": {
      "text/plain": [
       "False"
      ]
     },
     "execution_count": 16,
     "metadata": {},
     "output_type": "execute_result"
    }
   ],
   "source": [
    "# checking if 'price' and 'adjusted_price' are identical\n",
    "\n",
    "df_calendar['price'].equals(df_calendar['adjusted_price'])"
   ]
  },
  {
   "cell_type": "markdown",
   "metadata": {},
   "source": [
    "So the columns 'price' and 'adjusted price' are not equal but for the sake of simplicity, we will analyze the column 'price' only"
   ]
  },
  {
   "cell_type": "markdown",
   "metadata": {},
   "source": [
    "Below are the key insights from calendar dataframe:\n",
    "\n",
    "- Dataframe has 2677640 rows and 7 columns with no missing values\n",
    "\n",
    "Points to consider for data wrangling:\n",
    "\n",
    "- 'date' column is string and needs to be transformed into date format\n",
    "- 'price' column is string and needs to be transformed into values\n",
    "- 'adjusted_price' is string and needs to be transformed into values"
   ]
  },
  {
   "cell_type": "markdown",
   "metadata": {},
   "source": [
    "## Data Preparation\n",
    "In this step, we will transform the data and handle the missing values"
   ]
  },
  {
   "cell_type": "markdown",
   "metadata": {},
   "source": [
    "### listings dataframe\n",
    "\n",
    "- 'price' column is object and needs to be transformed to values\n",
    "- dropping 3 columns with 100% missing values"
   ]
  },
  {
   "cell_type": "code",
   "execution_count": 17,
   "metadata": {},
   "outputs": [],
   "source": [
    "def price_cleaning(x):\n",
    "    \"\"\"\n",
    "    function to clean the price column by eliminating the '$' and ',' \n",
    "    from the string and return a float to be stored in the column\n",
    "    \"\"\"\n",
    "    try:\n",
    "        if ',' in x:\n",
    "            x = x.replace(',','')\n",
    "        x = x[1:]\n",
    "        return float(str(x))\n",
    "    except:\n",
    "        return x"
   ]
  },
  {
   "cell_type": "code",
   "execution_count": 18,
   "metadata": {},
   "outputs": [],
   "source": [
    "#converting 'price' column from string to float\n",
    "\n",
    "df_listings['price'] = df_listings['price'].apply(lambda x: price_cleaning(x))"
   ]
  },
  {
   "cell_type": "code",
   "execution_count": 19,
   "metadata": {},
   "outputs": [],
   "source": [
    "#dropping columns with 100% missing values\n",
    "\n",
    "df_listings = df_listings.loc[:, df_listings.isin([' ','NULL',0]).mean() == 0]"
   ]
  },
  {
   "cell_type": "markdown",
   "metadata": {},
   "source": [
    "### calendar dataframe\n",
    "\n",
    "- 'date' column is string and needs to be transformed into date format\n",
    "- 'price' column is string and needs to be transformed into values\n",
    "- 'adjusted_price' is string and needs to be transformed into values"
   ]
  },
  {
   "cell_type": "code",
   "execution_count": 20,
   "metadata": {},
   "outputs": [],
   "source": [
    "#converting 'price' and 'adjusted_price' columns from string to float\n",
    "\n",
    "df_calendar['price'] = df_calendar['price'].apply(lambda x: price_cleaning(x))\n",
    "df_calendar['adjusted_price'] = df_calendar['adjusted_price'].apply(lambda x: price_cleaning(x))"
   ]
  },
  {
   "cell_type": "code",
   "execution_count": 21,
   "metadata": {},
   "outputs": [],
   "source": [
    "# change the date column from string to datetime \n",
    "\n",
    "df_calendar['date'] = pd.to_datetime(df_calendar['date'])"
   ]
  },
  {
   "cell_type": "markdown",
   "metadata": {},
   "source": [
    "For convenience of the analysis, we can add month and year to the calendar dataframe"
   ]
  },
  {
   "cell_type": "code",
   "execution_count": 22,
   "metadata": {},
   "outputs": [],
   "source": [
    "# adding month and year column to the calender dataframe\n",
    "\n",
    "df_calendar['month'], df_calendar['year'] = df_calendar.date.dt.month, df_calendar.date.dt.year"
   ]
  },
  {
   "cell_type": "markdown",
   "metadata": {},
   "source": [
    "## Modeling\n",
    "In this step, we will define necessary variables and functions to find the answers to our question"
   ]
  },
  {
   "cell_type": "markdown",
   "metadata": {},
   "source": [
    "### Questions of Interest\n",
    "\n",
    "1) When is it cheapest and when is it most expensive to visit Munich?\n",
    "\n",
    "2) Which neighboorhood has the cheapest rentals and which neighborhood has the most expensive ones?\n",
    "\n",
    "3) What are the top 5 amenities available in Munich Airbnb rentals?"
   ]
  },
  {
   "cell_type": "code",
   "execution_count": 23,
   "metadata": {},
   "outputs": [],
   "source": [
    "# 1) When is it cheapest and when is it most expensive to visit Munich?\n",
    "# most expensive and least expensive months in Munich\n",
    "\n",
    "month_mean_price = df_calendar.groupby(['month'])['price'].mean()\n",
    "\n",
    "month_max_price = month_mean_price.idxmax()\n",
    "month_min_price = month_mean_price.idxmin()"
   ]
  },
  {
   "cell_type": "code",
   "execution_count": 24,
   "metadata": {},
   "outputs": [],
   "source": [
    "# 2) Which neighboorhood has the cheapest rentals and which neighborhood has the most expensive ones?\n",
    "# most expensive and least expensive neighborhood in Munich\n",
    "\n",
    "neighborhood_mean_price = df_listings.groupby(['neighbourhood_cleansed'])['price'].mean()\n",
    "\n",
    "neighborhood_max_price = neighborhood_mean_price.idxmax()\n",
    "neighborhood_min_price = neighborhood_mean_price.idxmin()"
   ]
  },
  {
   "cell_type": "code",
   "execution_count": 25,
   "metadata": {},
   "outputs": [],
   "source": [
    "# 3) What are the top 5 amenities available in Munich Airbnb rentals?\n",
    "# Ranking top 5 amenities\n",
    "\n",
    "amenities = df_listings['amenities'].apply(lambda x: [a.replace('{', '').replace('}', '').replace('\"', '') for a in x.split(',')])\n",
    "\n",
    "mlb = MultiLabelBinarizer()\n",
    "amenities_result = pd.DataFrame(mlb.fit_transform(amenities), index=amenities.index, columns=mlb.classes_)\n",
    "amenities_count=amenities_result.sum().sort_values(ascending=False)"
   ]
  },
  {
   "cell_type": "markdown",
   "metadata": {},
   "source": [
    "## Evaluation\n",
    "In this step, we will evaluate our answers"
   ]
  },
  {
   "cell_type": "markdown",
   "metadata": {},
   "source": [
    "### 1) When is it cheapest and when is it most expensive to visit Munich?"
   ]
  },
  {
   "cell_type": "code",
   "execution_count": 26,
   "metadata": {},
   "outputs": [
    {
     "data": {
      "image/png": "[encoded data removed]",
      "text/plain": [
       "<Figure size 432x288 with 1 Axes>"
      ]
     },
     "metadata": {
      "needs_background": "light"
     },
     "output_type": "display_data"
    }
   ],
   "source": [
    "#plotting average monthly price\n",
    "df_calendar.groupby(['month'])['price'].mean().plot()\n",
    "plt.title('Monthly average price of Airbnb in Munich');\n",
    "plt.xlabel('Month');\n",
    "plt.ylabel('Avg. price');"
   ]
  },
  {
   "cell_type": "code",
   "execution_count": 27,
   "metadata": {},
   "outputs": [
    {
     "name": "stdout",
     "output_type": "stream",
     "text": [
      "Cheapest month for Airbnb rentals in Munich is February and most expensive month is September\n"
     ]
    }
   ],
   "source": [
    "print('Cheapest month for Airbnb rentals in Munich is',\n",
    "      calendar.month_name[month_min_price],\n",
    "      'and most expensive month is',\n",
    "      calendar.month_name[month_max_price])"
   ]
  },
  {
   "cell_type": "markdown",
   "metadata": {},
   "source": [
    "This means September is the most expensive month to visit Munich and February is the cheapest. One of the reason for September being most expensive is the fact that [largest volksfest of the world](https://www.t-online.de/leben/reisen/deutschland/id_59089408/oktoberfest-2023-alle-infos-zu-oeffnungszeiten-bierpreis-und-anfahrt-.html) \"Oktoberfest\" takes place primarily in September. Therefore, tourists, who are not participating in Oktoberfest, can get better Airbnb offerings in other months."
   ]
  },
  {
   "cell_type": "markdown",
   "metadata": {},
   "source": [
    "### 2) Which neighborhood is most expensive and which is least expensive in Munich?"
   ]
  },
  {
   "cell_type": "code",
   "execution_count": 28,
   "metadata": {},
   "outputs": [
    {
     "data": {
      "image/png": "[encoded data removed]",
      "text/plain": [
       "<Figure size 432x288 with 1 Axes>"
      ]
     },
     "metadata": {
      "needs_background": "light"
     },
     "output_type": "display_data"
    }
   ],
   "source": [
    "#plotting average price by neighborhood\n",
    "\n",
    "neighborhood_mean_price.sort_values(ascending=False).plot(kind='bar')\n",
    "plt.title('Average price of Airbnb in Munich by Neighborhood');\n",
    "plt.xlabel('Neighborhood');\n",
    "plt.ylabel('Avg. price');"
   ]
  },
  {
   "cell_type": "code",
   "execution_count": 29,
   "metadata": {},
   "outputs": [
    {
     "name": "stdout",
     "output_type": "stream",
     "text": [
      "Cheapest neighborhood for Airbnb rentals in Munich is Milbertshofen-Am Hart and most expensive neighborhood is Au-Haidhausen\n"
     ]
    }
   ],
   "source": [
    "print('Cheapest neighborhood for Airbnb rentals in Munich is',\n",
    "      neighborhood_min_price,\n",
    "      'and most expensive neighborhood is',\n",
    "      neighborhood_max_price)"
   ]
  },
  {
   "cell_type": "markdown",
   "metadata": {},
   "source": [
    "So, Milbertshofen-Am Hart is the cheapest neighborhood and Au-Haidhausen is the most expensive one. It is evident from looking at the neighborhood map of Munich is that neighborhoods in and near the city center have pricier Airbnb rentals compared to neighborhoods further away from the center."
   ]
  },
  {
   "cell_type": "markdown",
   "metadata": {},
   "source": [
    "### 3) What are the top 5 amenities available?"
   ]
  },
  {
   "cell_type": "code",
   "execution_count": 30,
   "metadata": {},
   "outputs": [
    {
     "data": {
      "image/png": "[encoded data removed]",
      "text/plain": [
       "<Figure size 432x288 with 1 Axes>"
      ]
     },
     "metadata": {
      "needs_background": "light"
     },
     "output_type": "display_data"
    }
   ],
   "source": [
    "# top 5 amenities\n",
    "amenities_count[:5].plot(kind='bar')\n",
    "plt.title('Top 5 amenities');\n",
    "plt.xlabel('Amenity');\n",
    "plt.ylabel('Count');"
   ]
  },
  {
   "cell_type": "code",
   "execution_count": 31,
   "metadata": {},
   "outputs": [
    {
     "name": "stdout",
     "output_type": "stream",
     "text": [
      "Top 5 amenities available in Munich Airbnb rentals are:  Kitchen, Wifi, Essentials, Smoke alarm, Hair dryer\n"
     ]
    }
   ],
   "source": [
    "print('Top 5 amenities available in Munich Airbnb rentals are:', ','.join(amenities_count[:5].index))"
   ]
  },
  {
   "cell_type": "markdown",
   "metadata": {},
   "source": [
    "Most Airbnb rentals come with Kitchen and Wifi, which is not a big surprise considering these are absolute must for tourists. Other top amenities are essentials, smoke alarm and hair dryer that provide added comfort and security for travelers."
   ]
  },
  {
   "cell_type": "markdown",
   "metadata": {},
   "source": [
    "### Conclusion\n",
    "\n",
    "In this project, Munich housing data of Airbnb rentals has been explored, cleaned and analyzed to find the following results:\n",
    "\n",
    "- September is the most expensive month to visit Munich and February is the cheapest.\n",
    "- Milbertshofen-Am Hart is the cheapest neighborhood in Munich and Au-Haidhausen is the most expensive one.\n",
    "- Top 5 amenities available in the Airbnb rentals in Munich are Kitchen, Wifi, Essentials, Smoke alarm and Hairdryer."
   ]
  },
  {
   "cell_type": "markdown",
   "metadata": {},
   "source": [
    "### Medium Blog Post\n",
    "\n",
    "Summarized article on the main findings of this project can be found [here](https://medium.com/@bhuiyan.mrahman01/want-to-visit-munich-check-when-to-visit-and-where-to-stay-f2717521c0be)"
   ]
  },
  {
   "cell_type": "markdown",
   "metadata": {},
   "source": [
    "### Licensing, Authors and Acknowledgement"
   ]
  },
  {
   "cell_type": "markdown",
   "metadata": {},
   "source": [
    "- Data Source:\n",
    "    1. http://insideairbnb.com/get-the-data.html\n",
    "    2. https://www.t-online.de/leben/reisen/deutschland/id_59089408/oktoberfest-2023-alle-infos-zu-oeffnungszeiten-bierpreis-und-anfahrt-.html\n",
    "    3. Munich map: By Maximilian Dörrbecker (Chumwa) - Own work, using OpenStreetMap data for the background, CC BY-SA 2.0, https://commons.wikimedia.org/w/index.php?curid=18148364\n",
    "\n",
    "- Acknowledgement: Special thanks for Airbnb for open sourcing the housing data\n",
    "\n",
    "- License: This work is licensed under a [Creative Commons Attribution-NonCommercial-NoDerivatives 4.0 International License](https://creativecommons.org/licenses/by-nc-nd/4.0/). Please refer to Udacity [Terms of Service](https://www.udacity.com/legal) for further information."
   ]
  },
  {
   "cell_type": "code",
   "execution_count": null,
   "metadata": {},
   "outputs": [],
   "source": []
  }
 ],
 "metadata": {
  "kernelspec": {
   "display_name": "Python 3",
   "language": "python",
   "name": "python3"
  },
  "language_info": {
   "codemirror_mode": {
    "name": "ipython",
    "version": 3
   },
   "file_extension": ".py",
   "mimetype": "text/x-python",
   "name": "python",
   "nbconvert_exporter": "python",
   "pygments_lexer": "ipython3",
   "version": "3.7.6"
  }
 },
 "nbformat": 4,
 "nbformat_minor": 4
}
